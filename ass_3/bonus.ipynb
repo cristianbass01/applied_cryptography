{
 "cells": [
  {
   "cell_type": "code",
   "execution_count": 2,
   "metadata": {},
   "outputs": [],
   "source": [
    "import hashlib\n",
    "\n",
    "def calculate_sha1(pdf_path):\n",
    "    # Create a SHA-1 hash object\n",
    "    sha1 = hashlib.sha1()\n",
    "    \n",
    "    # Open the PDF file in binary mode\n",
    "    with open(pdf_path, 'rb') as pdf_file:\n",
    "        # Read the file in chunks to avoid using too much memory\n",
    "        while chunk := pdf_file.read(8192):\n",
    "            sha1.update(chunk)  # Update the hash with the current chunk\n",
    "    \n",
    "    # Return the SHA-1\n",
    "    return sha1"
   ]
  },
  {
   "cell_type": "code",
   "execution_count": 3,
   "metadata": {},
   "outputs": [
    {
     "data": {
      "text/plain": [
       "'3e0eae21835cf91848966f20e1eab060e45a025c'"
      ]
     },
     "execution_count": 3,
     "metadata": {},
     "output_type": "execute_result"
    }
   ],
   "source": [
    "pdf_name = 'applied_cryptography3'\n",
    "pdf_path = pdf_name + '.pdf'\n",
    "original_sha1 = calculate_sha1(pdf_path)\n",
    "original_sha1.hexdigest()"
   ]
  },
  {
   "cell_type": "code",
   "execution_count": 17,
   "metadata": {},
   "outputs": [
    {
     "name": "stdout",
     "output_type": "stream",
     "text": [
      "Counter: 818365000\n",
      "Found it! 818365143\n"
     ]
    }
   ],
   "source": [
    "counter = 0\n",
    "extended_length = 8\n",
    "suffix = 'bada55'\n",
    "\n",
    "suffix = suffix.lower()\n",
    "\n",
    "# Check if the suffix is a valid hexadecimal string\n",
    "try:\n",
    "    int(suffix, 16)\n",
    "except ValueError:\n",
    "    raise ValueError(\"The suffix is not a valid hexadecimal string\")\n",
    "\n",
    "while True:\n",
    "    updated_sha1 = original_sha1.copy()\n",
    "    new_byte = counter.to_bytes(extended_length, 'big')\n",
    "    updated_sha1.update(new_byte)\n",
    "    if updated_sha1.hexdigest().endswith(suffix):\n",
    "        print(f'\\nFound it at: {counter}')\n",
    "        print(f'Updated SHA-1: {updated_sha1.hexdigest()}')\n",
    "        break\n",
    "    counter += 1\n",
    "    if counter % 1000 == 0:\n",
    "        print(f'\\rCounter: {counter}', end='', flush=True)"
   ]
  },
  {
   "cell_type": "code",
   "execution_count": 18,
   "metadata": {},
   "outputs": [
    {
     "data": {
      "text/plain": [
       "'0000000030c742d7'"
      ]
     },
     "execution_count": 18,
     "metadata": {},
     "output_type": "execute_result"
    }
   ],
   "source": [
    "counter.to_bytes(extended_length, 'big').hex()"
   ]
  },
  {
   "cell_type": "code",
   "execution_count": 19,
   "metadata": {},
   "outputs": [],
   "source": [
    "import shutil\n",
    "\n",
    "# Copy the original file to a new file\n",
    "new_pdf_path = pdf_name + f'_{suffix}.pdf'\n",
    "shutil.copy(pdf_path, new_pdf_path)\n",
    "\n",
    "# Append the bytes of the counter to the new file\n",
    "with open(new_pdf_path, 'ab') as pdf_file:\n",
    "  pdf_file.write(counter.to_bytes(extended_length, 'big'))"
   ]
  },
  {
   "cell_type": "code",
   "execution_count": 14,
   "metadata": {},
   "outputs": [
    {
     "name": "stdout",
     "output_type": "stream",
     "text": [
      "c03f944e0c05ccfa0c9f7c3347b4e74097bada55  applied_cryptography3_bada55.pdf\n"
     ]
    }
   ],
   "source": [
    "!sha1sum $new_pdf_path"
   ]
  }
 ],
 "metadata": {
  "kernelspec": {
   "display_name": "crypto",
   "language": "python",
   "name": "python3"
  },
  "language_info": {
   "codemirror_mode": {
    "name": "ipython",
    "version": 3
   },
   "file_extension": ".py",
   "mimetype": "text/x-python",
   "name": "python",
   "nbconvert_exporter": "python",
   "pygments_lexer": "ipython3",
   "version": "3.12.5"
  }
 },
 "nbformat": 4,
 "nbformat_minor": 2
}
