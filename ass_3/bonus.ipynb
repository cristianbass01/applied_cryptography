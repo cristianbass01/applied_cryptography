{
 "cells": [
  {
   "cell_type": "code",
   "execution_count": 43,
   "metadata": {},
   "outputs": [],
   "source": [
    "import hashlib\n",
    "\n",
    "def calculate_sha1(pdf_path):\n",
    "    # Create a SHA-1 hash object\n",
    "    sha1 = hashlib.sha1()\n",
    "    \n",
    "    # Open the PDF file in binary mode\n",
    "    with open(pdf_path, 'rb') as pdf_file:\n",
    "        # Read the file in chunks to avoid using too much memory\n",
    "        while chunk := pdf_file.read(8192):\n",
    "            sha1.update(chunk)  # Update the hash with the current chunk\n",
    "    \n",
    "    # Return the SHA-1\n",
    "    return sha1"
   ]
  },
  {
   "cell_type": "code",
   "execution_count": 44,
   "metadata": {},
   "outputs": [
    {
     "data": {
      "text/plain": [
       "'98afeef37876fb679db61fe91e0804397a1c3e06'"
      ]
     },
     "execution_count": 44,
     "metadata": {},
     "output_type": "execute_result"
    }
   ],
   "source": [
    "pdf_name = 'applied_cryptography3'\n",
    "pdf_path = pdf_name + '.pdf'\n",
    "original_sha1 = calculate_sha1(pdf_path)\n",
    "original_sha1.hexdigest()"
   ]
  },
  {
   "cell_type": "code",
   "execution_count": 45,
   "metadata": {},
   "outputs": [
    {
     "name": "stdout",
     "output_type": "stream",
     "text": [
      "Counter: 8850000\n",
      "Found it! 8850539\n"
     ]
    }
   ],
   "source": [
    "counter = 0\n",
    "extended_length = 8\n",
    "suffix = 'bada55'\n",
    "\n",
    "while True:\n",
    "    updated_sha1 = original_sha1.copy()\n",
    "    new_byte = counter.to_bytes(extended_length, 'big')\n",
    "    updated_sha1.update(new_byte)\n",
    "    if updated_sha1.hexdigest().endswith(suffix):\n",
    "        print(f'\\nFound it! {counter}')\n",
    "        break\n",
    "    counter += 1\n",
    "    if counter % 1000 == 0:\n",
    "        print(f'\\rCounter: {counter}', end='', flush=True)"
   ]
  },
  {
   "cell_type": "code",
   "execution_count": 46,
   "metadata": {},
   "outputs": [
    {
     "data": {
      "text/plain": [
       "'0000000000870c6b'"
      ]
     },
     "execution_count": 46,
     "metadata": {},
     "output_type": "execute_result"
    }
   ],
   "source": [
    "counter.to_bytes(extended_length, 'big').hex()"
   ]
  },
  {
   "cell_type": "code",
   "execution_count": 47,
   "metadata": {},
   "outputs": [],
   "source": [
    "import shutil\n",
    "\n",
    "# Copy the original file to a new file\n",
    "new_pdf_path = pdf_name + f'_{suffix}.pdf'\n",
    "shutil.copy(pdf_path, new_pdf_path)\n",
    "\n",
    "# Append the bytes of the counter to the new file\n",
    "with open(new_pdf_path, 'ab') as pdf_file:\n",
    "  pdf_file.write(counter.to_bytes(extended_length, 'big'))"
   ]
  },
  {
   "cell_type": "code",
   "execution_count": 48,
   "metadata": {},
   "outputs": [
    {
     "name": "stdout",
     "output_type": "stream",
     "text": [
      "a85909af6e6ecbaa30b63989cc143855cbbada55  applied_cryptography3_bada55.pdf\n"
     ]
    }
   ],
   "source": [
    "!sha1sum $new_pdf_path"
   ]
  }
 ],
 "metadata": {
  "kernelspec": {
   "display_name": "crypto",
   "language": "python",
   "name": "python3"
  },
  "language_info": {
   "codemirror_mode": {
    "name": "ipython",
    "version": 3
   },
   "file_extension": ".py",
   "mimetype": "text/x-python",
   "name": "python",
   "nbconvert_exporter": "python",
   "pygments_lexer": "ipython3",
   "version": "3.12.5"
  }
 },
 "nbformat": 4,
 "nbformat_minor": 2
}
