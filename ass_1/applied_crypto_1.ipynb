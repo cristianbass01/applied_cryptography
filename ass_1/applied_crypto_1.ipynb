{
  "cells": [
    {
      "cell_type": "code",
      "execution_count": 14,
      "metadata": {
        "id": "XTVWZ377ZNCy"
      },
      "outputs": [],
      "source": [
        "from Crypto.Cipher import AES\n",
        "from Crypto.Util import Counter\n",
        "from Crypto.Random import get_random_bytes\n",
        "import os"
      ]
    },
    {
      "cell_type": "code",
      "execution_count": 15,
      "metadata": {},
      "outputs": [],
      "source": [
        "def xor_bytes(a, b):\n",
        "    \"\"\"Return the XOR combination of two byte strings.\"\"\"\n",
        "    return bytes(x ^ y for x, y in zip(a, b))"
      ]
    },
    {
      "cell_type": "code",
      "execution_count": 36,
      "metadata": {
        "id": "IBg1Bm0UZSsw"
      },
      "outputs": [],
      "source": [
        "def aes_128_ofb_encrypt(plaintext, key, iv):\n",
        "    \"\"\"\n",
        "    Encrypt the plaintext using AES-128-OFB mode.\n",
        "\n",
        "    Args:\n",
        "        plaintext (bytes): The plaintext to be encrypted.\n",
        "        key (bytes): The 16-byte (128-bit) encryption key.\n",
        "        iv (bytes): The 16-byte (128-bit) initialization vector.\n",
        "\n",
        "    Returns:\n",
        "        bytes: The encrypted ciphertext.\n",
        "    \"\"\"\n",
        "    # Check if the key and IV are 16 bytes\n",
        "    if len(key) != 16:\n",
        "        raise ValueError(\"Key must be 16 bytes.\")\n",
        "    if len(iv) != 16:\n",
        "        raise ValueError(\"IV must be 16 bytes.\")\n",
        "    \n",
        "    # Check if the plaintext is in bytes\n",
        "    if type(plaintext) != bytes:\n",
        "        raise ValueError(\"Plaintext must be bytes.\")\n",
        "\n",
        "    # Create the AES-128-ECB cipher\n",
        "    aes_128_ECB = AES.new(key, AES.MODE_ECB)\n",
        "\n",
        "    # Initialize the OFB state\n",
        "    state = iv\n",
        "    \n",
        "    # Encrypt the plaintext\n",
        "    ciphertext = b\"\"\n",
        "    for i in range(0, len(plaintext), 16):\n",
        "        # Encrypt the state\n",
        "        state = aes_128_ECB.encrypt(state)\n",
        "\n",
        "        block = plaintext[i:i+16]\n",
        "\n",
        "        # padd the block if it is less than 16 bytes\n",
        "        #if len(block) < 16:\n",
        "        #    block += b\"\\x00\" * (16 - len(block))\n",
        "\n",
        "        # XOR the state with the plaintext\n",
        "        ciphertext += xor_bytes(state, block)\n",
        "\n",
        "    return ciphertext\n"
      ]
    },
    {
      "cell_type": "code",
      "execution_count": 37,
      "metadata": {
        "id": "Bg2CC7lZZVDo"
      },
      "outputs": [],
      "source": [
        "def aes_128_ofb_decrypt(ciphertext, key, iv):\n",
        "    \"\"\"\n",
        "    Decrypt the ciphertext using AES-128-OFB mode.\n",
        "\n",
        "    Args:\n",
        "        ciphertext (bytes): The ciphertext to be decrypted.\n",
        "        key (bytes): The 16-byte (128-bit) encryption key.\n",
        "        iv (bytes): The 16-byte (128-bit) initialization vector.\n",
        "\n",
        "    Returns:\n",
        "        bytes: The decrypted plaintext.\n",
        "    \"\"\"\n",
        "    # same as encrypt, just call it with the ciphertext\n",
        "    plaintext = aes_128_ofb_encrypt(ciphertext, key, iv)\n",
        "    \n",
        "    # remove padding\n",
        "    #plaintext = plaintext_padded.rstrip(b\"\\x00\")\n",
        "\n",
        "    return plaintext"
      ]
    },
    {
      "cell_type": "code",
      "execution_count": 39,
      "metadata": {
        "colab": {
          "base_uri": "https://localhost:8080/",
          "height": 356
        },
        "id": "miKoFcLbZXlA",
        "outputId": "f4f7eb48-25e6-402d-da68-b62559461c2b"
      },
      "outputs": [
        {
          "name": "stdout",
          "output_type": "stream",
          "text": [
            "Ciphertext: 31bf82a4bdba44324c45ade79fa110cf314277116e319766502c74f33fc6fc16a2d06eb601d2e28d3d989941d3465edbc8609afab42602799678f6a6d6298b330b7d58a1f711f5d09c9eb6c6be34\n",
            "Decrypted: This is a 512-bit plaintext for testing AES-128-OFB encryption and decryption.\n"
          ]
        }
      ],
      "source": [
        "# Test the AES-128-OFB encryption and decryption\n",
        "key = get_random_bytes(16)  # Random 128-bit key\n",
        "iv = get_random_bytes(16)   # Random 128-bit IV\n",
        "\n",
        "# Plaintext must be at least 512 bits\n",
        "plaintext_first = b'This is a 512-bit plaintext for testing AES-128-OFB encryption and decryption.'\n",
        "\n",
        "# Encrypt\n",
        "ciphertext_first = aes_128_ofb_encrypt(plaintext_first, key, iv)\n",
        "print(\"Ciphertext:\", ciphertext_first.hex())\n",
        "\n",
        "# Decrypt\n",
        "decrypted = aes_128_ofb_decrypt(ciphertext_first, key, iv)\n",
        "print(\"Decrypted:\", decrypted.decode())"
      ]
    },
    {
      "cell_type": "code",
      "execution_count": 47,
      "metadata": {},
      "outputs": [
        {
          "name": "stdout",
          "output_type": "stream",
          "text": [
            "First Ciphertext: ab212c1e4f78f0e9c7a3bb54687240ce9b0286c481b9c179a9f1ec40cdce\n",
            "Second Ciphertext: c47b7651023dfea887ade009232e4383dd43db8fc1b78138e9bca74eadce\n",
            "Decrypted: Attack on user-chosen nonce N.\n"
          ]
        }
      ],
      "source": [
        "key = get_random_bytes(16)  # Random 128-bit key\n",
        "iv = get_random_bytes(16)   # Random 128-bit IV\n",
        "\n",
        "# Attack on user-chosen nonce N\n",
        "plaintext_first = b'Attack on user-chosen nonce N.'\n",
        "ciphertext_first = aes_128_ofb_encrypt(plaintext_first, key, iv)\n",
        "print(\"First Ciphertext:\", ciphertext_first.hex())\n",
        "\n",
        "# Second encryption with the same IV\n",
        "plaintext_second = b'..............................'\n",
        "ciphertext_second = aes_128_ofb_encrypt(plaintext_second, key, iv)\n",
        "print(\"Second Ciphertext:\", ciphertext_second.hex())\n",
        "\n",
        "# Attack\n",
        "xor_messages = xor_bytes(ciphertext_first, ciphertext_second)\n",
        "decrypted = xor_bytes(xor_messages, plaintext_second)\n",
        "print(\"Decrypted:\", decrypted.decode())"
      ]
    }
  ],
  "metadata": {
    "colab": {
      "provenance": []
    },
    "kernelspec": {
      "display_name": "Python 3",
      "name": "python3"
    },
    "language_info": {
      "codemirror_mode": {
        "name": "ipython",
        "version": 3
      },
      "file_extension": ".py",
      "mimetype": "text/x-python",
      "name": "python",
      "nbconvert_exporter": "python",
      "pygments_lexer": "ipython3",
      "version": "3.12.5"
    }
  },
  "nbformat": 4,
  "nbformat_minor": 0
}
