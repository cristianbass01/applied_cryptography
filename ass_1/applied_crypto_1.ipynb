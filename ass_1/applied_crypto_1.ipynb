{
  "cells": [
    {
      "cell_type": "code",
      "execution_count": 14,
      "metadata": {
        "id": "XTVWZ377ZNCy"
      },
      "outputs": [],
      "source": [
        "from Crypto.Cipher import AES\n",
        "from Crypto.Util import Counter\n",
        "from Crypto.Random import get_random_bytes\n",
        "import os"
      ]
    },
    {
      "cell_type": "code",
      "execution_count": 15,
      "metadata": {},
      "outputs": [],
      "source": [
        "def xor_bytes(a, b):\n",
        "    return bytes(x ^ y for x, y in zip(a, b))"
      ]
    },
    {
      "cell_type": "code",
      "execution_count": 19,
      "metadata": {
        "id": "IBg1Bm0UZSsw"
      },
      "outputs": [],
      "source": [
        "def aes_128_ofb_encrypt(plaintext, key, iv):\n",
        "    \"\"\"\n",
        "    Encrypt the plaintext using AES-128-OFB mode.\n",
        "\n",
        "    Args:\n",
        "        plaintext (bytes): The plaintext to be encrypted.\n",
        "        key (bytes): The 16-byte (128-bit) encryption key.\n",
        "        iv (bytes): The 16-byte (128-bit) initialization vector.\n",
        "\n",
        "    Returns:\n",
        "        bytes: The encrypted ciphertext.\n",
        "    \"\"\"\n",
        "    # Check if the key and IV are 16 bytes\n",
        "    if len(key) != 16:\n",
        "        raise ValueError(\"Key must be 16 bytes.\")\n",
        "    if len(iv) != 16:\n",
        "        raise ValueError(\"IV must be 16 bytes.\")\n",
        "    \n",
        "    # Check if the plaintext is in bytes\n",
        "    if type(plaintext) != bytes:\n",
        "        raise ValueError(\"Plaintext must be bytes.\")\n",
        "\n",
        "    # Create the AES-128-ECB cipher\n",
        "    aes_128_ECB = AES.new(key, AES.MODE_ECB)\n",
        "\n",
        "    # Initialize the OFB state\n",
        "    state = iv\n",
        "    \n",
        "    # Encrypt the plaintext\n",
        "    ciphertext = b\"\"\n",
        "    for i in range(0, len(plaintext), 16):\n",
        "        # Encrypt the state\n",
        "        state = aes_128_ECB.encrypt(state)\n",
        "\n",
        "        block = plaintext[i:i+16]\n",
        "\n",
        "        # padd the block if it is less than 16 bytes\n",
        "        if len(block) < 16:\n",
        "            block += b\"\\x00\" * (16 - len(block))\n",
        "\n",
        "        # XOR the state with the plaintext\n",
        "        ciphertext += xor_bytes(state, block)\n",
        "\n",
        "    return ciphertext\n"
      ]
    },
    {
      "cell_type": "code",
      "execution_count": 20,
      "metadata": {
        "id": "Bg2CC7lZZVDo"
      },
      "outputs": [],
      "source": [
        "def aes_128_ofb_decrypt(ciphertext, key, iv):\n",
        "    \"\"\"\n",
        "    Decrypt the ciphertext using AES-128-OFB mode.\n",
        "\n",
        "    Args:\n",
        "        ciphertext (bytes): The ciphertext to be decrypted.\n",
        "        key (bytes): The 16-byte (128-bit) encryption key.\n",
        "        iv (bytes): The 16-byte (128-bit) initialization vector.\n",
        "\n",
        "    Returns:\n",
        "        bytes: The decrypted plaintext.\n",
        "    \"\"\"\n",
        "    # same as encrypt, just call it with the ciphertext\n",
        "    plaintext_padded = aes_128_ofb_encrypt(ciphertext, key, iv)\n",
        "    \n",
        "    # remove padding\n",
        "    plaintext = plaintext_padded.rstrip(b\"\\x00\")\n",
        "\n",
        "    return plaintext"
      ]
    },
    {
      "cell_type": "code",
      "execution_count": 35,
      "metadata": {
        "colab": {
          "base_uri": "https://localhost:8080/",
          "height": 356
        },
        "id": "miKoFcLbZXlA",
        "outputId": "f4f7eb48-25e6-402d-da68-b62559461c2b"
      },
      "outputs": [
        {
          "name": "stdout",
          "output_type": "stream",
          "text": [
            "Ciphertext: 8cdd3a54d5a49159eb85855fef75492170bf522011332ba9bec638429778370f80f5b20fe69795d819d7e6889a5c7638631586d96aae15fbba7dd2b358e68e64c9d5ad098776dcf9922d968f94b4c2e2\n",
            "Decrypted: This is a 512-bit plaintext for testing AES-128-OFB encryption and decryption.\n"
          ]
        }
      ],
      "source": [
        "# Example usage\n",
        "key = get_random_bytes(16)  # Random 128-bit key\n",
        "iv = get_random_bytes(16)   # Random 128-bit IV\n",
        "\n",
        "# Plaintext must be at least 512 bits\n",
        "plaintext = b'This is a 512-bit plaintext for testing AES-128-OFB encryption and decryption.'\n",
        "\n",
        "# Encrypt\n",
        "ciphertext = aes_128_ofb_encrypt(plaintext, key, iv)\n",
        "print(\"Ciphertext:\", ciphertext.hex())\n",
        "\n",
        "# Decrypt\n",
        "decrypted = aes_128_ofb_decrypt(ciphertext, key, iv)\n",
        "print(\"Decrypted:\", decrypted.decode())"
      ]
    }
  ],
  "metadata": {
    "colab": {
      "provenance": []
    },
    "kernelspec": {
      "display_name": "Python 3",
      "name": "python3"
    },
    "language_info": {
      "codemirror_mode": {
        "name": "ipython",
        "version": 3
      },
      "file_extension": ".py",
      "mimetype": "text/x-python",
      "name": "python",
      "nbconvert_exporter": "python",
      "pygments_lexer": "ipython3",
      "version": "3.12.5"
    }
  },
  "nbformat": 4,
  "nbformat_minor": 0
}
