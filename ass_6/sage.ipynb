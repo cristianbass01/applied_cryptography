{
 "cells": [
  {
   "cell_type": "code",
   "execution_count": 3,
   "metadata": {
    "vscode": {
     "languageId": "sage"
    }
   },
   "outputs": [],
   "source": [
    "p = 2^221 - 3\n",
    "F = FiniteField(p)\n",
    "A = 2246662222262553316222251257251635889469762035211714373411374400767\n",
    "B = 2121847654359078131987681742959878340054775255477730874138797701479\n",
    "E = EllipticCurve(F, [A,B])"
   ]
  },
  {
   "cell_type": "code",
   "execution_count": 4,
   "metadata": {
    "vscode": {
     "languageId": "sage"
    }
   },
   "outputs": [],
   "source": [
    "Gx = 1337986418373986027481331603085719890755810485220461707389578529200\n",
    "Gy = 357140777035609340439344712909994219660040722634117794161168213942\n",
    "G = E(Gx,Gy)"
   ]
  },
  {
   "cell_type": "markdown",
   "metadata": {},
   "source": [
    "a) Use Sage’s built-in commands to find the size of Curve22103, and the order of G:"
   ]
  },
  {
   "cell_type": "code",
   "execution_count": 5,
   "metadata": {
    "vscode": {
     "languageId": "sage"
    }
   },
   "outputs": [
    {
     "name": "stdout",
     "output_type": "stream",
     "text": [
      "Size of the elliptic curve E: 3369993333393829974333376885877452179297706875975337343558987350312\n",
      "Order of the point G: 421249166674228746791672110734681522412213359496917167944873418789\n"
     ]
    }
   ],
   "source": [
    "# Size of the elliptic curve E\n",
    "curve_size = E.cardinality()\n",
    "print(\"Size of the elliptic curve E:\", curve_size)\n",
    "\n",
    "# Order of the point G\n",
    "G_order = G.order()\n",
    "print(\"Order of the point G:\", G_order)"
   ]
  },
  {
   "cell_type": "markdown",
   "metadata": {},
   "source": [
    "b) The group structure of Curve22103 can be given as\n",
    "E(Fp) ∼= Zq × Zc,\n",
    "where q is a large prime number, while c is a smaller cofactor. Based on your answer\n",
    "to (a), what are the values of c and q?"
   ]
  },
  {
   "cell_type": "code",
   "execution_count": 7,
   "metadata": {
    "vscode": {
     "languageId": "sage"
    }
   },
   "outputs": [
    {
     "name": "stdout",
     "output_type": "stream",
     "text": [
      "Factors of the elliptic curve size: 2^3 * 421249166674228746791672110734681522412213359496917167944873418789\n",
      "Value of q (large prime): 421249166674228746791672110734681522412213359496917167944873418789\n",
      "Value of c (cofactor): 8\n"
     ]
    }
   ],
   "source": [
    "# Factorize the size of the elliptic curve E\n",
    "curve_factors = curve_size.factor()\n",
    "print(\"Factors of the elliptic curve size:\", curve_factors)\n",
    "\n",
    "# Extract q and c from the factors\n",
    "q = max(curve_factors, key=lambda x: x[0])[0]\n",
    "c = curve_size // q\n",
    "print(\"Value of q (large prime):\", q)\n",
    "print(\"Value of c (cofactor):\", c)"
   ]
  },
  {
   "cell_type": "markdown",
   "metadata": {},
   "source": [
    "Elliptic Curve Digital Signature Algorithm, or ECDSA.\n",
    "\n",
    "What is the corresponding public key?"
   ]
  },
  {
   "cell_type": "code",
   "execution_count": 8,
   "metadata": {
    "vscode": {
     "languageId": "sage"
    }
   },
   "outputs": [
    {
     "name": "stdout",
     "output_type": "stream",
     "text": [
      "Public key Q: (1449700746860612539000028784349694595452118603357933391461948038930 : 1277690429281444286004390105922060068114732837782325001891691451342 : 1)\n"
     ]
    }
   ],
   "source": [
    "d = 154594568703641690998489183597663211003678858273761150657308524442\n",
    "Q = d*G\n",
    "print(\"Public key Q:\", Q)"
   ]
  },
  {
   "cell_type": "markdown",
   "metadata": {},
   "source": [
    "e) For the keys from from (d), give a signature (r, s) for a message with hash h(M ) = 8."
   ]
  },
  {
   "cell_type": "code",
   "execution_count": 9,
   "metadata": {
    "vscode": {
     "languageId": "sage"
    }
   },
   "outputs": [
    {
     "name": "stdout",
     "output_type": "stream",
     "text": [
      "Signature (r,s): (34719691755664914719859905143123253052956448771779989463621942568, 100115338102180315227852962420689457733302592057488877716686222196)\n"
     ]
    }
   ],
   "source": [
    "Fq = FiniteField(q)\n",
    "k = Fq.random_element()\n",
    "K = int(k)*G  # do you see why int() is necessary?\n",
    "r = mod(K[0], q)\n",
    "h_m = 8\n",
    "s = mod((h_m + d*r)*k^(-1), q)\n",
    "print(\"Signature (r,s):\", (r,s))"
   ]
  },
  {
   "cell_type": "markdown",
   "metadata": {},
   "source": [
    "f) Give an element T ∈ E(Fp)\\{O} such that [c]T = O, where c is from exercise (b).\n",
    "Explain how you found it. (Hint: you can find random elements of the curve with\n",
    "E.random element().)"
   ]
  },
  {
   "cell_type": "code",
   "execution_count": 24,
   "metadata": {
    "vscode": {
     "languageId": "sage"
    }
   },
   "outputs": [
    {
     "name": "stdout",
     "output_type": "stream",
     "text": [
      "Found point T: (1123331111131276658111125628625817944734881017605857186712650495184 : 2905412021863391127230307314374030313383051866327251979898719405155 : 1)\n",
      "Verification: [8]T = (0 : 1 : 0)\n"
     ]
    }
   ],
   "source": [
    "while True:\n",
    "    P = E.random_point()\n",
    "    T = (curve_size // c) * P\n",
    "    if T != E(0):\n",
    "        break\n",
    "\n",
    "print(\"Found point T:\", T)\n",
    "print(\"Verification: [8]T =\", c * T)  # Should print O"
   ]
  }
 ],
 "metadata": {
  "kernelspec": {
   "display_name": "SageMath 10.4",
   "language": "sage",
   "name": "sagemath"
  },
  "language_info": {
   "codemirror_mode": {
    "name": "ipython",
    "version": 3
   },
   "file_extension": ".py",
   "mimetype": "text/x-python",
   "name": "python",
   "nbconvert_exporter": "python",
   "pygments_lexer": "ipython3",
   "version": "3.12.8"
  }
 },
 "nbformat": 4,
 "nbformat_minor": 4
}
