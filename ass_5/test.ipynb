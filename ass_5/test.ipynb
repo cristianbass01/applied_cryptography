{
 "cells": [
  {
   "cell_type": "code",
   "execution_count": 3,
   "metadata": {},
   "outputs": [],
   "source": [
    "import random\n",
    "import math\n",
    "from cryptography.hazmat.primitives.asymmetric import rsa\n",
    "from Crypto.Hash import SHA3_256\n",
    "from Crypto.Protocol.KDF import PBKDF2\n",
    "from Crypto.Random import get_random_bytes\n",
    "import string"
   ]
  },
  {
   "cell_type": "code",
   "execution_count": 4,
   "metadata": {},
   "outputs": [],
   "source": [
    "def get_bytes(value: int):\n",
    "    return value.to_bytes((value.bit_length() + 7) // 8, byteorder='big')   \n",
    "\n",
    "# get the hash of a value\n",
    "def get_hash(value: int):    \n",
    "    value = get_bytes(value)\n",
    "    hash_function = SHA3_256.new()\n",
    "    hash_function.update(value)\n",
    "    return int(hash_function.hexdigest(), 16)"
   ]
  },
  {
   "cell_type": "code",
   "execution_count": 22,
   "metadata": {},
   "outputs": [
    {
     "data": {
      "text/plain": [
       "78"
      ]
     },
     "execution_count": 22,
     "metadata": {},
     "output_type": "execute_result"
    }
   ],
   "source": [
    "n = 1000\n",
    "random_values = [int(''.join(random.choices(string.digits, k=77))) for _ in range(n)]\n",
    "\n",
    "hashes = [get_hash(value) for value in random_values]\n",
    "\n",
    "# get the maximum length of the hash\n",
    "max_length = max([len(str(hash_value)) for hash_value in hashes])\n",
    "max_length"
   ]
  },
  {
   "cell_type": "code",
   "execution_count": 25,
   "metadata": {},
   "outputs": [
    {
     "data": {
      "text/plain": [
       "78"
      ]
     },
     "execution_count": 25,
     "metadata": {},
     "output_type": "execute_result"
    }
   ],
   "source": [
    "max_value = 'FF' * 32\n",
    "max_value = int(max_value, 16)\n",
    "len(str(max_value))"
   ]
  }
 ],
 "metadata": {
  "kernelspec": {
   "display_name": "crypto",
   "language": "python",
   "name": "python3"
  },
  "language_info": {
   "codemirror_mode": {
    "name": "ipython",
    "version": 3
   },
   "file_extension": ".py",
   "mimetype": "text/x-python",
   "name": "python",
   "nbconvert_exporter": "python",
   "pygments_lexer": "ipython3",
   "version": "3.12.7"
  }
 },
 "nbformat": 4,
 "nbformat_minor": 2
}
